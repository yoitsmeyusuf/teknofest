{
 "cells": [
  {
   "cell_type": "code",
   "execution_count": 1,
   "id": "9e7621c4",
   "metadata": {},
   "outputs": [],
   "source": [
    "text = \"\"\"{\"original_text\": \"KURUÇEŞME MAHALLESİ 205/3 sokak no:9 daire:8     BUCA İZMIR Türkiye\", \"normalized_text\": \"kurucesme mahallesi 205 3 sokak no 9 daire 8 buca izmir turkiye\", \"tokens\": [\"kurucesme\", \"mahallesi\", \"205\", \"3\", \"sokak\", \"no\", \"9\", \"daire\", \"8\", \"buca\", \"izmir\", \"turkiye\"], \"labels\": [\"B-MAHALLE\", \"I-MAHALLE\", \"B-SOKAK\", \"I-SOKAK\", \"I-SOKAK\", \"B-NO\", \"I-NO\", \"O\", \"B-DAIRE\", \"B-ILCE\", \"B-IL\", \"B-ULKE\"], \"metadata\": {\"google_place_id\": \"Ej1LdXJ1w6dlxZ9tZSwgMjA1LzMuIFNrLiBObzo5IEQ6OCwgMzUzOTAgQnVjYS_EsHptaXIsIFTDvHJraXllIh0aGwoWChQKEgkXjgF28mG5FBEDn831BoyJ9hIBOA\", \"status\": \"OK\", \"lat\": 38.368085, \"lon\": 27.193033}}\n",
    "{\"original_text\": \"Yenikale mahallesi baran sokak no 36)1 Narlıdere İzmir (Narlıdere veteriner kliniği. nede bırakılabilir\", \"normalized_text\": \"yenikale mahallesi baran sokak no 36 1 narlidere izmir narlidere veteriner klinigi nede birakilabilir\", \"tokens\": [\"yenikale\", \"mahallesi\", \"baran\", \"sokak\", \"no\", \"36\", \"1\", \"narlidere\", \"izmir\", \"narlidere\", \"veteriner\", \"klinigi\", \"nede\", \"birakilabilir\"], \"labels\": [\"B-MAHALLE\", \"I-MAHALLE\", \"B-SOKAK\", \"I-SOKAK\", \"B-NO\", \"I-NO\", \"B-DAIRE\", \"B-ILCE\", \"B-IL\", \"O\", \"O\", \"O\", \"O\", \"O\"], \"metadata\": {\"google_place_id\": \"EkBZZW5pa2FsZSwgQmFyYW4gU2suIE5vOjM2IEQ6MSwgMzUzMjAgTmFybMSxZGVyZS_EsHptaXIsIFTDvHJraXllIjcaNQowEi4KFAoSCRnkyZPo3LsUEWDayy784uIoECQqFAoSCTvHZWHo3LsUEUVlW8XafqlpEgEx\", \"status\": \"OK\", \"lat\": 38.3944014, \"lon\": 27.0127937}}\n",
    "{\"original_text\": \"Karaburun mah 524. Sokak Ortaca KYK yurt müdürlüğü  KYK yurdu\", \"normalized_text\": \"karaburun mahalle 524 sokak ortaca kyk yurt mudurlugu kyk yurdu\", \"tokens\": [\"karaburun\", \"mahalle\", \"524\", \"sokak\", \"ortaca\", \"kyk\", \"yurt\", \"mudurlugu\", \"kyk\", \"yurdu\"], \"labels\": [\"B-MAHALLE\", \"I-MAHALLE\", \"B-SOKAK\", \"I-SOKAK\", \"B-ILCE\", \"O\", \"O\", \"O\", \"O\", \"O\"], \"metadata\": {\"google_place_id\": \"ChIJWcS11XJ5wBQRCWlPH4uWwyo\", \"status\": \"OK\", \"lat\": 36.8472648, \"lon\": 28.7433187}}\n",
    "{\"original_text\": \"Bodrum Belediyesi Bodrum Belediyesi Çarşı  Başkanlık Katı\", \"normalized_text\": \"bodrum belediyesi bodrum belediyesi carsi baskanlik kati\", \"tokens\": [\"bodrum\", \"belediyesi\", \"bodrum\", \"belediyesi\", \"carsi\", \"baskanlik\", \"kati\"], \"labels\": [\"B-ILCE\", \"I-POI\", \"O\", \"O\", \"O\", \"O\", \"O\"], \"metadata\": {\"google_place_id\": \"ChIJqyqPtEFsvhQRDAoEcqsE1rI\", \"status\": \"OK\", \"lat\": 37.0349729, \"lon\": 27.4305391}}\n",
    "{\"original_text\": \"Kınıklı mahallesi / çamlık caddesi/ 2591 sokak/ no 10/ kat 2 daire 6 / Pamukkale /Denizli\", \"normalized_text\": \"kinikli mahallesi camlik caddesi 2591 sokak no 10 kat 2 daire 6 pamukkale denizli\", \"tokens\": [\"kinikli\", \"mahallesi\", \"camlik\", \"caddesi\", \"2591\", \"sokak\", \"no\", \"10\", \"kat\", \"2\", \"daire\", \"6\", \"pamukkale\", \"denizli\"], \"labels\": [\"B-MAHALLE\", \"I-MAHALLE\", \"O\", \"O\", \"B-SOKAK\", \"I-SOKAK\", \"B-NO\", \"I-NO\", \"B-DAIRE\", \"I-DAIRE\", \"I-DAIRE\", \"I-DAIRE\", \"O\", \"B-IL\"], \"metadata\": {\"google_place_id\": \"ElFLxLFuxLFrbMSxLCAyNTkxLiBTay4gTm86MTAga2F0IDIgZGFpcmUgNiwgMjAxNjAgRGVuaXpsaSBNZXJrZXovRGVuaXpsaSwgVMO8cmtpeWUiKRonChYKFAoSCYcWLjAiP8cUEWkRMHjW-pFCEg1rYXQgMiBkYWlyZSA2\", \"status\": \"OK\", \"lat\": 37.74782, \"lon\": 29.0859588}}\n",
    "{\"original_text\": \"KURTULUŞ MAHALLESİ Kurtuluş mahallesi 287 sokak cihan apart manı no 29 kat 3 daire 6 salihli Manisa    SALİHLİ MANISA Türkiye\", \"normalized_text\": \"kurtulus mahallesi kurtulus mahallesi 287 sokak cihan apart mani no 29 kat 3 daire 6 salihli manisa salihli manisa turkiye\", \"tokens\": [\"kurtulus\", \"mahallesi\", \"kurtulus\", \"mahallesi\", \"287\", \"sokak\", \"cihan\", \"apart\", \"mani\", \"no\", \"29\", \"kat\", \"3\", \"daire\", \"6\", \"salihli\", \"manisa\", \"salihli\", \"manisa\", \"turkiye\"], \"labels\": [\"B-MAHALLE\", \"I-MAHALLE\", \"I-MAHALLE\", \"I-MAHALLE\", \"B-SOKAK\", \"I-SOKAK\", \"O\", \"O\", \"O\", \"B-NO\", \"I-NO\", \"O\", \"O\", \"O\", \"O\", \"B-ILCE\", \"B-IL\", \"O\", \"O\", \"B-ULKE\"], \"metadata\": {\"google_place_id\": \"Ei1LdXJ0dWx1xZ8sIDI4Ny4gU2suLCBTYWxpaGxpL01hbmlzYSwgVMO8cmtpeWUiLiosChQKEgml2PqbTVq4FBFbK5rT6c_0ShIUChIJGXFQLFhauBQRCwZUp76HPuM\", \"status\": \"OK\", \"lat\": 38.4717377, \"lon\": 28.1553675}}\n",
    "{\"original_text\": \"Yeşil Mah. 52. Sk. Ferruh Mert Apt. No:12 Kat:3 Daire:7\", \"normalized_text\": \"yesil mahalle 52 sokak ferruh mert apt no 12 kat 3 daire 7\", \"tokens\": [\"yesil\", \"mahalle\", \"52\", \"sokak\", \"ferruh\", \"mert\", \"apt\", \"no\", \"12\", \"kat\", \"3\", \"daire\", \"7\"], \"labels\": [\"O\", \"O\", \"O\", \"O\", \"O\", \"O\", \"O\", \"O\", \"O\", \"O\", \"O\", \"O\", \"O\"], \"metadata\": {\"google_place_id\": null, \"status\": \"ZERO_RESULTS\", \"lat\": null, \"lon\": null}}\n",
    "{\"original_text\": \"Aliağa Ceza İnfaz Kurumu Lojmanları 12. Blok Daire:25 Kat:6 Yenişakran\", \"normalized_text\": \"aliaga ceza infaz kurumu lojmanlari 12 blok daire 25 kat 6 yenisakran\", \"tokens\": [\"aliaga\", \"ceza\", \"infaz\", \"kurumu\", \"lojmanlari\", \"12\", \"blok\", \"daire\", \"25\", \"kat\", \"6\", \"yenisakran\"], \"labels\": [\"B-ILCE\", \"O\", \"O\", \"O\", \"O\", \"O\", \"O\", \"O\", \"O\", \"O\", \"O\", \"B-IL\"], \"metadata\": {\"google_place_id\": \"ChIJAaNsxuQjuhQR3InpggRHERc\", \"status\": \"OK\", \"lat\": 38.887543, \"lon\": 27.067531}}\n",
    "{\"original_text\": \"KURTULUŞ MAHALLESI HASTANE CADESI NO:17/1\", \"normalized_text\": \"kurtulus mahallesi hastane cadesi no 17 1\", \"tokens\": [\"kurtulus\", \"mahallesi\", \"hastane\", \"cadesi\", \"no\", \"17\", \"1\"], \"labels\": [\"B-MAHALLE\", \"I-MAHALLE\", \"B-CADDE\", \"I-CADDE\", \"B-NO\", \"I-NO\", \"B-DAIRE\"], \"metadata\": {\"google_place_id\": \"EjpZZW5pxZ9laGlyLCBIYXN0YW5lIENkLiBObzoxNyBEOjEsIDEyMDAwIEJpbmfDtmwsIFTDvHJraXllIh0aGwoWChQKEglhD7KEks9zQBHXJwoDhNLsMhIBMQ\", \"status\": \"OK\", \"lat\": 38.883614, \"lon\": 40.495667}}\n",
    "{\"original_text\": \"Aydınlıkevler mahallesi Hazal Kent Sitesi J1 blok no:5 \\r\\nMilas/Muğla\", \"normalized_text\": \"aydinlikevler mahallesi hazal kent sitesi j1 blok no 5 milas mugla\", \"tokens\": [\"aydinlikevler\", \"mahallesi\", \"hazal\", \"kent\", \"sitesi\", \"j1\", \"blok\", \"no\", \"5\", \"milas\", \"mugla\"], \"labels\": [\"B-MAHALLE\", \"I-MAHALLE\", \"O\", \"O\", \"O\", \"O\", \"O\", \"B-NO\", \"I-NO\", \"B-ILCE\", \"B-IL\"], \"metadata\": {\"google_place_id\": \"ChIJW6LFR0r6vhQRgAuBnp7xY8w\", \"status\": \"OK\", \"lat\": 37.31163799999999, \"lon\": 27.780795}}\n",
    "{\"original_text\": \"Geriş mahallesi 6025 sokak sante yalıkavak çaprazı demir sürgülü kapı yakamarin evleri no22 d blok GERİŞ MAH\", \"normalized_text\": \"geris mahallesi 6025 sokak sante yalikavak caprazi demir surgulu kapi yakamarin evleri no22 d blok geris mahalle\", \"tokens\": [\"geris\", \"mahallesi\", \"6025\", \"sokak\", \"sante\", \"yalikavak\", \"caprazi\", \"demir\", \"surgulu\", \"kapi\", \"yakamarin\", \"evleri\", \"no22\", \"d\", \"blok\", \"geris\", \"mahalle\"], \"labels\": [\"O\", \"O\", \"O\", \"O\", \"O\", \"O\", \"O\", \"O\", \"O\", \"O\", \"O\", \"O\", \"O\", \"O\", \"O\", \"B-MAHALLE\", \"I-MAHALLE\"], \"metadata\": {\"google_place_id\": \"ChIJK8l-Kgx0vhQRvHhGjTwffyo\", \"status\": \"OK\", \"lat\": 37.0883393, \"lon\": 27.2764294}}\n",
    "{\"original_text\": \"Mithatpaşa mahallesi tuna sokak no 22  kat 2 daire 2 izmir menderes\", \"normalized_text\": \"mithatpasa mahallesi tuna sokak no 22 kat 2 daire 2 izmir menderes\", \"tokens\": [\"mithatpasa\", \"mahallesi\", \"tuna\", \"sokak\", \"no\", \"22\", \"kat\", \"2\", \"daire\", \"2\", \"izmir\", \"menderes\"], \"labels\": [\"B-MAHALLE\", \"I-MAHALLE\", \"B-SOKAK\", \"I-SOKAK\", \"B-NO\", \"I-NO\", \"O\", \"O\", \"O\", \"O\", \"B-IL\", \"B-ILCE\"], \"metadata\": {\"google_place_id\": \"ChIJZfkKh5fhuxQR_70AipbIlU8\", \"status\": \"OK\", \"lat\": 38.2526248, \"lon\": 27.1381905}}\n",
    "{\"original_text\": \"Atatürk mah. Atatürk kültür cad. No:76 Beydağ/ İzmir Halk eğitim yanı\", \"normalized_text\": \"ataturk mahalle ataturk kultur cadde no 76 beydag izmir halk egitim yani\", \"tokens\": [\"ataturk\", \"mahalle\", \"ataturk\", \"kultur\", \"cadde\", \"no\", \"76\", \"beydag\", \"izmir\", \"halk\", \"egitim\", \"yani\"], \"labels\": [\"B-MAHALLE\", \"I-MAHALLE\", \"O\", \"O\", \"O\", \"B-NO\", \"I-NO\", \"B-ILCE\", \"B-IL\", \"O\", \"O\", \"O\"], \"metadata\": {\"google_place_id\": \"ChIJm_SEvNbruBQRjB-2a3vrcbQ\", \"status\": \"OK\", \"lat\": 38.0847, \"lon\": 28.2106}}\n",
    "{\"original_text\": \"İçmeler Mahallesi 1182 sokak no:3 urla izmir No:3\", \"normalized_text\": \"icmeler mahallesi 1182 sokak no 3 urla izmir no 3\", \"tokens\": [\"icmeler\", \"mahallesi\", \"1182\", \"sokak\", \"no\", \"3\", \"urla\", \"izmir\", \"no\", \"3\"], \"labels\": [\"B-MAHALLE\", \"I-MAHALLE\", \"O\", \"O\", \"B-NO\", \"I-NO\", \"O\", \"B-IL\", \"O\", \"O\"], \"metadata\": {\"google_place_id\": \"ChIJ-WH1ACuduRQR49dv6TmTrs4\", \"status\": \"OK\", \"lat\": 38.3591693, \"lon\": 27.2676116}}\n",
    "{\"original_text\": \"Osman Yozgatlı Mahallesi Poligon Bulvarı No 11 zemin kat\", \"normalized_text\": \"osman yozgatli mahallesi poligon bulvari no 11 zemin kat\", \"tokens\": [\"osman\", \"yozgatli\", \"mahallesi\", \"poligon\", \"bulvari\", \"no\", \"11\", \"zemin\", \"kat\"], \"labels\": [\"B-MAHALLE\", \"I-MAHALLE\", \"I-MAHALLE\", \"B-SOKAK\", \"I-SOKAK\", \"B-NO\", \"I-NO\", \"O\", \"O\"], \"metadata\": {\"google_place_id\": \"ChIJ2Rt6lFQruRQRfGvQqo2coew\", \"status\": \"OK\", \"lat\": 37.8252805, \"lon\": 27.8357636}}\n",
    "{\"original_text\": \"Efeler Mh. Çakırcalı caddesi zelal apartman no:23 kat : 1 daire no: 1 DİDİM AYDIN\", \"normalized_text\": \"efeler mahalle cakircali caddesi zelal apartman no 23 kat 1 daire no 1 didim aydin\", \"tokens\": [\"efeler\", \"mahalle\", \"cakircali\", \"caddesi\", \"zelal\", \"apartman\", \"no\", \"23\", \"kat\", \"1\", \"daire\", \"no\", \"1\", \"didim\", \"aydin\"], \"labels\": [\"B-MAHALLE\", \"I-MAHALLE\", \"O\", \"O\", \"O\", \"O\", \"B-NO\", \"I-NO\", \"O\", \"O\", \"O\", \"O\", \"O\", \"B-ILCE\", \"B-IL\"], \"metadata\": {\"google_place_id\": \"ChIJN-yArdKGvhQRjdpxwPKWBzM\", \"status\": \"OK\", \"lat\": 37.37609399999999, \"lon\": 27.264729}}\n",
    "{\"original_text\": \"2212 sokak no:7 helvacı\", \"normalized_text\": \"2212 sokak no 7 helvaci\", \"tokens\": [\"2212\", \"sokak\", \"no\", \"7\", \"helvaci\"], \"labels\": [\"O\", \"O\", \"O\", \"O\", \"O\"], \"metadata\": {\"google_place_id\": null, \"status\": \"ZERO_RESULTS\", \"lat\": null, \"lon\": null}}\"\"\""
   ]
  },
  {
   "cell_type": "code",
   "execution_count": null,
   "id": "4c1c39e6",
   "metadata": {},
   "outputs": [
    {
     "name": "stdout",
     "output_type": "stream",
     "text": [
      "Parsed 17 objects\n",
      "Kept 15 of 17 entries (removed 2)\n"
     ]
    }
   ],
   "source": [
    "# Parse the `text` string robustly, filter out entries with metadata.status == 'ZERO_RESULTS', and save filtered JSONL\n",
    "import json\n",
    "\n",
    "s = text\n",
    "objs = []\n",
    "\n",
    "# Brace-matching parser that respects string quoting and escapes\n",
    "depth = 0\n",
    "in_string = False\n",
    "escape = False\n",
    "start = None\n",
    "for i, ch in enumerate(s):\n",
    "    if start is None:\n",
    "        if ch != '{':\n",
    "            continue\n",
    "        start = i\n",
    "        depth = 0\n",
    "        in_string = False\n",
    "        escape = False\n",
    "\n",
    "    # Update string/escape state\n",
    "    if ch == '\"' and not escape:\n",
    "        in_string = not in_string\n",
    "    if ch == '\\\\' and not escape:\n",
    "        escape = True\n",
    "    else:\n",
    "        escape = False\n",
    "\n",
    "    # Only track braces when not inside a string\n",
    "    if not in_string:\n",
    "        if ch == '{':\n",
    "            depth += 1\n",
    "        elif ch == '}':\n",
    "            depth -= 1\n",
    "            if depth == 0 and start is not None:\n",
    "                obj_text = s[start:i+1]\n",
    "\n",
    "                # Try to load the JSON object; try a few common fixes if it fails\n",
    "                parsed = None\n",
    "                try:\n",
    "                    parsed = json.loads(obj_text)\n",
    "                except Exception:\n",
    "                    # 1) Try decoding escaped unicode sequences\n",
    "                    try:\n",
    "                        fixed = obj_text.encode('utf-8').decode('unicode_escape')\n",
    "                        parsed = json.loads(fixed)\n",
    "                    except Exception:\n",
    "                        # 2) Try replacing escaped quotes and removing stray newlines\n",
    "                        try:\n",
    "                            candidate = obj_text.replace('\\\\\"', '\"').replace('\\r', ' ').replace('\\n', ' ')\n",
    "                            parsed = json.loads(candidate)\n",
    "                        except Exception:\n",
    "                            parsed = None\n",
    "\n",
    "                if parsed is not None:\n",
    "                    objs.append(parsed)\n",
    "\n",
    "                # reset for next object\n",
    "                start = None\n",
    "                depth = 0\n",
    "                in_string = False\n",
    "                escape = False\n",
    "\n",
    "print(f\"Parsed {len(objs)} objects\")\n",
    "\n",
    "# Filter out ZERO_RESULTS\n",
    "filtered = [o for o in objs if o.get('metadata', {}).get('status') != 'ZERO_RESULTS']\n",
    "print(f\"Kept {len(filtered)} of {len(objs)} entries (removed {len(objs)-len(filtered)})\")\n",
    "\n",
    "\n"
   ]
  },
  {
   "cell_type": "code",
   "execution_count": 6,
   "id": "807bb230",
   "metadata": {},
   "outputs": [
    {
     "name": "stdout",
     "output_type": "stream",
     "text": [
      "[{'original_text': 'KURUÇEŞME MAHALLESİ 205/3 sokak no:9 daire:8     BUCA İZMIR Türkiye', 'normalized_text': 'kurucesme mahallesi 205 3 sokak no 9 daire 8 buca izmir turkiye', 'tokens': ['kurucesme', 'mahallesi', '205', '3', 'sokak', 'no', '9', 'daire', '8', 'buca', 'izmir', 'turkiye'], 'labels': ['B-MAHALLE', 'I-MAHALLE', 'B-SOKAK', 'I-SOKAK', 'I-SOKAK', 'B-NO', 'I-NO', 'O', 'B-DAIRE', 'B-ILCE', 'B-IL', 'B-ULKE'], 'metadata': {'google_place_id': 'Ej1LdXJ1w6dlxZ9tZSwgMjA1LzMuIFNrLiBObzo5IEQ6OCwgMzUzOTAgQnVjYS_EsHptaXIsIFTDvHJraXllIh0aGwoWChQKEgkXjgF28mG5FBEDn831BoyJ9hIBOA', 'status': 'OK', 'lat': 38.368085, 'lon': 27.193033}}, {'original_text': 'Yenikale mahallesi baran sokak no 36)1 Narlıdere İzmir (Narlıdere veteriner kliniği. nede bırakılabilir', 'normalized_text': 'yenikale mahallesi baran sokak no 36 1 narlidere izmir narlidere veteriner klinigi nede birakilabilir', 'tokens': ['yenikale', 'mahallesi', 'baran', 'sokak', 'no', '36', '1', 'narlidere', 'izmir', 'narlidere', 'veteriner', 'klinigi', 'nede', 'birakilabilir'], 'labels': ['B-MAHALLE', 'I-MAHALLE', 'B-SOKAK', 'I-SOKAK', 'B-NO', 'I-NO', 'B-DAIRE', 'B-ILCE', 'B-IL', 'O', 'O', 'O', 'O', 'O'], 'metadata': {'google_place_id': 'EkBZZW5pa2FsZSwgQmFyYW4gU2suIE5vOjM2IEQ6MSwgMzUzMjAgTmFybMSxZGVyZS_EsHptaXIsIFTDvHJraXllIjcaNQowEi4KFAoSCRnkyZPo3LsUEWDayy784uIoECQqFAoSCTvHZWHo3LsUEUVlW8XafqlpEgEx', 'status': 'OK', 'lat': 38.3944014, 'lon': 27.0127937}}, {'original_text': 'Karaburun mah 524. Sokak Ortaca KYK yurt müdürlüğü  KYK yurdu', 'normalized_text': 'karaburun mahalle 524 sokak ortaca kyk yurt mudurlugu kyk yurdu', 'tokens': ['karaburun', 'mahalle', '524', 'sokak', 'ortaca', 'kyk', 'yurt', 'mudurlugu', 'kyk', 'yurdu'], 'labels': ['B-MAHALLE', 'I-MAHALLE', 'B-SOKAK', 'I-SOKAK', 'B-ILCE', 'O', 'O', 'O', 'O', 'O'], 'metadata': {'google_place_id': 'ChIJWcS11XJ5wBQRCWlPH4uWwyo', 'status': 'OK', 'lat': 36.8472648, 'lon': 28.7433187}}, {'original_text': 'Bodrum Belediyesi Bodrum Belediyesi Çarşı  Başkanlık Katı', 'normalized_text': 'bodrum belediyesi bodrum belediyesi carsi baskanlik kati', 'tokens': ['bodrum', 'belediyesi', 'bodrum', 'belediyesi', 'carsi', 'baskanlik', 'kati'], 'labels': ['B-ILCE', 'I-POI', 'O', 'O', 'O', 'O', 'O'], 'metadata': {'google_place_id': 'ChIJqyqPtEFsvhQRDAoEcqsE1rI', 'status': 'OK', 'lat': 37.0349729, 'lon': 27.4305391}}, {'original_text': 'Kınıklı mahallesi / çamlık caddesi/ 2591 sokak/ no 10/ kat 2 daire 6 / Pamukkale /Denizli', 'normalized_text': 'kinikli mahallesi camlik caddesi 2591 sokak no 10 kat 2 daire 6 pamukkale denizli', 'tokens': ['kinikli', 'mahallesi', 'camlik', 'caddesi', '2591', 'sokak', 'no', '10', 'kat', '2', 'daire', '6', 'pamukkale', 'denizli'], 'labels': ['B-MAHALLE', 'I-MAHALLE', 'O', 'O', 'B-SOKAK', 'I-SOKAK', 'B-NO', 'I-NO', 'B-DAIRE', 'I-DAIRE', 'I-DAIRE', 'I-DAIRE', 'O', 'B-IL'], 'metadata': {'google_place_id': 'ElFLxLFuxLFrbMSxLCAyNTkxLiBTay4gTm86MTAga2F0IDIgZGFpcmUgNiwgMjAxNjAgRGVuaXpsaSBNZXJrZXovRGVuaXpsaSwgVMO8cmtpeWUiKRonChYKFAoSCYcWLjAiP8cUEWkRMHjW-pFCEg1rYXQgMiBkYWlyZSA2', 'status': 'OK', 'lat': 37.74782, 'lon': 29.0859588}}, {'original_text': 'KURTULUŞ MAHALLESİ Kurtuluş mahallesi 287 sokak cihan apart manı no 29 kat 3 daire 6 salihli Manisa    SALİHLİ MANISA Türkiye', 'normalized_text': 'kurtulus mahallesi kurtulus mahallesi 287 sokak cihan apart mani no 29 kat 3 daire 6 salihli manisa salihli manisa turkiye', 'tokens': ['kurtulus', 'mahallesi', 'kurtulus', 'mahallesi', '287', 'sokak', 'cihan', 'apart', 'mani', 'no', '29', 'kat', '3', 'daire', '6', 'salihli', 'manisa', 'salihli', 'manisa', 'turkiye'], 'labels': ['B-MAHALLE', 'I-MAHALLE', 'I-MAHALLE', 'I-MAHALLE', 'B-SOKAK', 'I-SOKAK', 'O', 'O', 'O', 'B-NO', 'I-NO', 'O', 'O', 'O', 'O', 'B-ILCE', 'B-IL', 'O', 'O', 'B-ULKE'], 'metadata': {'google_place_id': 'Ei1LdXJ0dWx1xZ8sIDI4Ny4gU2suLCBTYWxpaGxpL01hbmlzYSwgVMO8cmtpeWUiLiosChQKEgml2PqbTVq4FBFbK5rT6c_0ShIUChIJGXFQLFhauBQRCwZUp76HPuM', 'status': 'OK', 'lat': 38.4717377, 'lon': 28.1553675}}, {'original_text': 'Aliağa Ceza İnfaz Kurumu Lojmanları 12. Blok Daire:25 Kat:6 Yenişakran', 'normalized_text': 'aliaga ceza infaz kurumu lojmanlari 12 blok daire 25 kat 6 yenisakran', 'tokens': ['aliaga', 'ceza', 'infaz', 'kurumu', 'lojmanlari', '12', 'blok', 'daire', '25', 'kat', '6', 'yenisakran'], 'labels': ['B-ILCE', 'O', 'O', 'O', 'O', 'O', 'O', 'O', 'O', 'O', 'O', 'B-IL'], 'metadata': {'google_place_id': 'ChIJAaNsxuQjuhQR3InpggRHERc', 'status': 'OK', 'lat': 38.887543, 'lon': 27.067531}}, {'original_text': 'KURTULUŞ MAHALLESI HASTANE CADESI NO:17/1', 'normalized_text': 'kurtulus mahallesi hastane cadesi no 17 1', 'tokens': ['kurtulus', 'mahallesi', 'hastane', 'cadesi', 'no', '17', '1'], 'labels': ['B-MAHALLE', 'I-MAHALLE', 'B-CADDE', 'I-CADDE', 'B-NO', 'I-NO', 'B-DAIRE'], 'metadata': {'google_place_id': 'EjpZZW5pxZ9laGlyLCBIYXN0YW5lIENkLiBObzoxNyBEOjEsIDEyMDAwIEJpbmfDtmwsIFTDvHJraXllIh0aGwoWChQKEglhD7KEks9zQBHXJwoDhNLsMhIBMQ', 'status': 'OK', 'lat': 38.883614, 'lon': 40.495667}}, {'original_text': 'Aydınlıkevler mahallesi Hazal Kent Sitesi J1 blok no:5   Milas/Muğla', 'normalized_text': 'aydinlikevler mahallesi hazal kent sitesi j1 blok no 5 milas mugla', 'tokens': ['aydinlikevler', 'mahallesi', 'hazal', 'kent', 'sitesi', 'j1', 'blok', 'no', '5', 'milas', 'mugla'], 'labels': ['B-MAHALLE', 'I-MAHALLE', 'O', 'O', 'O', 'O', 'O', 'B-NO', 'I-NO', 'B-ILCE', 'B-IL'], 'metadata': {'google_place_id': 'ChIJW6LFR0r6vhQRgAuBnp7xY8w', 'status': 'OK', 'lat': 37.31163799999999, 'lon': 27.780795}}, {'original_text': 'Geriş mahallesi 6025 sokak sante yalıkavak çaprazı demir sürgülü kapı yakamarin evleri no22 d blok GERİŞ MAH', 'normalized_text': 'geris mahallesi 6025 sokak sante yalikavak caprazi demir surgulu kapi yakamarin evleri no22 d blok geris mahalle', 'tokens': ['geris', 'mahallesi', '6025', 'sokak', 'sante', 'yalikavak', 'caprazi', 'demir', 'surgulu', 'kapi', 'yakamarin', 'evleri', 'no22', 'd', 'blok', 'geris', 'mahalle'], 'labels': ['O', 'O', 'O', 'O', 'O', 'O', 'O', 'O', 'O', 'O', 'O', 'O', 'O', 'O', 'O', 'B-MAHALLE', 'I-MAHALLE'], 'metadata': {'google_place_id': 'ChIJK8l-Kgx0vhQRvHhGjTwffyo', 'status': 'OK', 'lat': 37.0883393, 'lon': 27.2764294}}, {'original_text': 'Mithatpaşa mahallesi tuna sokak no 22  kat 2 daire 2 izmir menderes', 'normalized_text': 'mithatpasa mahallesi tuna sokak no 22 kat 2 daire 2 izmir menderes', 'tokens': ['mithatpasa', 'mahallesi', 'tuna', 'sokak', 'no', '22', 'kat', '2', 'daire', '2', 'izmir', 'menderes'], 'labels': ['B-MAHALLE', 'I-MAHALLE', 'B-SOKAK', 'I-SOKAK', 'B-NO', 'I-NO', 'O', 'O', 'O', 'O', 'B-IL', 'B-ILCE'], 'metadata': {'google_place_id': 'ChIJZfkKh5fhuxQR_70AipbIlU8', 'status': 'OK', 'lat': 38.2526248, 'lon': 27.1381905}}, {'original_text': 'Atatürk mah. Atatürk kültür cad. No:76 Beydağ/ İzmir Halk eğitim yanı', 'normalized_text': 'ataturk mahalle ataturk kultur cadde no 76 beydag izmir halk egitim yani', 'tokens': ['ataturk', 'mahalle', 'ataturk', 'kultur', 'cadde', 'no', '76', 'beydag', 'izmir', 'halk', 'egitim', 'yani'], 'labels': ['B-MAHALLE', 'I-MAHALLE', 'O', 'O', 'O', 'B-NO', 'I-NO', 'B-ILCE', 'B-IL', 'O', 'O', 'O'], 'metadata': {'google_place_id': 'ChIJm_SEvNbruBQRjB-2a3vrcbQ', 'status': 'OK', 'lat': 38.0847, 'lon': 28.2106}}, {'original_text': 'İçmeler Mahallesi 1182 sokak no:3 urla izmir No:3', 'normalized_text': 'icmeler mahallesi 1182 sokak no 3 urla izmir no 3', 'tokens': ['icmeler', 'mahallesi', '1182', 'sokak', 'no', '3', 'urla', 'izmir', 'no', '3'], 'labels': ['B-MAHALLE', 'I-MAHALLE', 'O', 'O', 'B-NO', 'I-NO', 'O', 'B-IL', 'O', 'O'], 'metadata': {'google_place_id': 'ChIJ-WH1ACuduRQR49dv6TmTrs4', 'status': 'OK', 'lat': 38.3591693, 'lon': 27.2676116}}, {'original_text': 'Osman Yozgatlı Mahallesi Poligon Bulvarı No 11 zemin kat', 'normalized_text': 'osman yozgatli mahallesi poligon bulvari no 11 zemin kat', 'tokens': ['osman', 'yozgatli', 'mahallesi', 'poligon', 'bulvari', 'no', '11', 'zemin', 'kat'], 'labels': ['B-MAHALLE', 'I-MAHALLE', 'I-MAHALLE', 'B-SOKAK', 'I-SOKAK', 'B-NO', 'I-NO', 'O', 'O'], 'metadata': {'google_place_id': 'ChIJ2Rt6lFQruRQRfGvQqo2coew', 'status': 'OK', 'lat': 37.8252805, 'lon': 27.8357636}}, {'original_text': 'Efeler Mh. Çakırcalı caddesi zelal apartman no:23 kat : 1 daire no: 1 DİDİM AYDIN', 'normalized_text': 'efeler mahalle cakircali caddesi zelal apartman no 23 kat 1 daire no 1 didim aydin', 'tokens': ['efeler', 'mahalle', 'cakircali', 'caddesi', 'zelal', 'apartman', 'no', '23', 'kat', '1', 'daire', 'no', '1', 'didim', 'aydin'], 'labels': ['B-MAHALLE', 'I-MAHALLE', 'O', 'O', 'O', 'O', 'B-NO', 'I-NO', 'O', 'O', 'O', 'O', 'O', 'B-ILCE', 'B-IL'], 'metadata': {'google_place_id': 'ChIJN-yArdKGvhQRjdpxwPKWBzM', 'status': 'OK', 'lat': 37.37609399999999, 'lon': 27.264729}}]\n"
     ]
    }
   ],
   "source": [
    "print(filtered)"
   ]
  },
  {
   "cell_type": "code",
   "execution_count": 10,
   "id": "5a9c24d5",
   "metadata": {},
   "outputs": [
    {
     "name": "stdout",
     "output_type": "stream",
     "text": [
      "Per-file stats (filename, read, kept):\n",
      "  21.8.jsonl: read=1528, kept=1411\n",
      "  22.8.jsonl: read=52670, kept=48191\n",
      "  23.8.jsonl: read=7780, kept=7145\n",
      "Total: read=61978, kept=56747, removed=5231\n",
      "Wrote 21_22_23_filtered.jsonl\n"
     ]
    }
   ],
   "source": [
    "# Birleştir: 21.8, 22.8, 23.8 JSONL dosyalarını sırayla oku, ZERO_RESULTS çıkart, yaz\n",
    "import json\n",
    "from pathlib import Path\n",
    "\n",
    "input_files = [Path('21.8.jsonl'), Path('22.8.jsonl'), Path('23.8.jsonl')]\n",
    "out_file = Path('21_22_23_filtered.jsonl')\n",
    "\n",
    "total_in = 0\n",
    "total_kept = 0\n",
    "per_file_stats = []\n",
    "\n",
    "with out_file.open('w', encoding='utf-8') as outf:\n",
    "    for p in input_files:\n",
    "        if not p.exists():\n",
    "            print(f\"Warning: {p} not found, skipping\")\n",
    "            per_file_stats.append((p.name, 0, 0))\n",
    "            continue\n",
    "        read_count = 0\n",
    "        kept = 0\n",
    "        with p.open('r', encoding='utf-8') as f:\n",
    "            for line in f:\n",
    "                line = line.strip()\n",
    "                if not line:\n",
    "                    continue\n",
    "                read_count += 1\n",
    "                total_in += 1\n",
    "                try:\n",
    "                    obj = json.loads(line)\n",
    "                except Exception as e:\n",
    "                    # skip malformed lines but report\n",
    "                    print(f\"Skipping malformed line in {p.name}: {e}\")\n",
    "                    continue\n",
    "                if obj.get('metadata', {}).get('status') == 'ZERO_RESULTS':\n",
    "                    continue\n",
    "                json.dump(obj, outf, ensure_ascii=False)\n",
    "                outf.write('\\n')\n",
    "                kept += 1\n",
    "                total_kept += 1\n",
    "        per_file_stats.append((p.name, read_count, kept))\n",
    "\n",
    "print('Per-file stats (filename, read, kept):')\n",
    "for fn, r, k in per_file_stats:\n",
    "    print(f\"  {fn}: read={r}, kept={k}\")\n",
    "print(f\"Total: read={total_in}, kept={total_kept}, removed={total_in-total_kept}\")\n",
    "print('Wrote', out_file)\n"
   ]
  },
  {
   "cell_type": "code",
   "execution_count": null,
   "id": "fdd80d9f",
   "metadata": {},
   "outputs": [],
   "source": []
  },
  {
   "cell_type": "code",
   "execution_count": 11,
   "id": "4152740d",
   "metadata": {},
   "outputs": [
    {
     "name": "stdout",
     "output_type": "stream",
     "text": [
      "Total processed=56747, moved to high-O=2328, rest=54419\n",
      "Wrote: high_o_80.jsonl remaining.jsonl\n"
     ]
    }
   ],
   "source": [
    "# Ayır: Etiketlerinin en az %80'i 'O' olanları ayrı dosyaya taşı\n",
    "import json\n",
    "from pathlib import Path\n",
    "\n",
    "combined = Path('21_22_23_filtered.jsonl')\n",
    "if combined.exists():\n",
    "    sources = [combined]\n",
    "else:\n",
    "    sources = [Path('21.8.jsonl'), Path('22.8.jsonl'), Path('23.8.jsonl')]\n",
    "\n",
    "high_o_path = Path('high_o_80.jsonl')\n",
    "rest_path = Path('remaining.jsonl')\n",
    "\n",
    "counts = {'total': 0, 'high_o': 0, 'rest': 0}\n",
    "\n",
    "with high_o_path.open('w', encoding='utf-8') as hf, rest_path.open('w', encoding='utf-8') as rf:\n",
    "    for p in sources:\n",
    "        if not p.exists():\n",
    "            print(f'Warning: {p} not found, skipping')\n",
    "            continue\n",
    "        with p.open('r', encoding='utf-8') as f:\n",
    "            for line_no, line in enumerate(f, 1):\n",
    "                line = line.strip()\n",
    "                if not line:\n",
    "                    continue\n",
    "                counts['total'] += 1\n",
    "                try:\n",
    "                    obj = json.loads(line)\n",
    "                except Exception as e:\n",
    "                    print(f\"Skipping malformed line {line_no} in {p.name}: {e}\")\n",
    "                    continue\n",
    "                labels = obj.get('labels') or []\n",
    "                if not labels:\n",
    "                    # treat as not high-O\n",
    "                    json.dump(obj, rf, ensure_ascii=False)\n",
    "                    rf.write('\\n')\n",
    "                    counts['rest'] += 1\n",
    "                    continue\n",
    "                o_count = sum(1 for lab in labels if lab == 'O')\n",
    "                frac = o_count / len(labels)\n",
    "                if frac >= 0.8:\n",
    "                    json.dump(obj, hf, ensure_ascii=False)\n",
    "                    hf.write('\\n')\n",
    "                    counts['high_o'] += 1\n",
    "                else:\n",
    "                    json.dump(obj, rf, ensure_ascii=False)\n",
    "                    rf.write('\\n')\n",
    "                    counts['rest'] += 1\n",
    "\n",
    "print(f\"Total processed={counts['total']}, moved to high-O={counts['high_o']}, rest={counts['rest']}\")\n",
    "print('Wrote:', high_o_path, rest_path)\n"
   ]
  },
  {
   "cell_type": "code",
   "execution_count": null,
   "id": "5adc2332",
   "metadata": {},
   "outputs": [],
   "source": [
    "combined = Path('remainining.jsonl')\n",
    "\n"
   ]
  },
  {
   "cell_type": "code",
   "execution_count": null,
   "id": "5a35e80d",
   "metadata": {},
   "outputs": [],
   "source": []
  }
 ],
 "metadata": {
  "kernelspec": {
   "display_name": ".venv",
   "language": "python",
   "name": "python3"
  },
  "language_info": {
   "codemirror_mode": {
    "name": "ipython",
    "version": 3
   },
   "file_extension": ".py",
   "mimetype": "text/x-python",
   "name": "python",
   "nbconvert_exporter": "python",
   "pygments_lexer": "ipython3",
   "version": "3.12.8"
  }
 },
 "nbformat": 4,
 "nbformat_minor": 5
}
